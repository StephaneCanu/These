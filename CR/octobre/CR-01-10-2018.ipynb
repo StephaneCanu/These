{
 "cells": [
  {
   "cell_type": "markdown",
   "metadata": {},
   "source": [
    "# CR de la réunion du 01/10/2018 #\n",
    "\n",
    "**Objectif** : Détection d'obstacles routiers en conditions météorologiques dégradées.\n",
    "\n",
    "**Solutions** : Deep learning appliqué à la polarimétrie.\n",
    "\n",
    "**Personnes présentes** : Fabrice MERIAUDEAU, Stéphane CANU, Samia AINOUZ, Rachel BLIN\n",
    "\n",
    "La réunion s'est focalisée sur la phase 1 de la thèse qui est l'état de l'art. Après la lecture de plusieurs papiers concernant l'état de l'art de la détection en temps réel, quelques solutions ont été retenues et on été reproduites. Les solutions ainsi que leurs diverses performances sont répertoriées dans le tableau ci-dessous.\n",
    "\n",
    "| Nom du réseau | Développeur | Technologie utilisée | Année de publication | Vitesse de détection (en frames par seconde) | Nombre de classes pour l'entraînement | Classement des performances |\n",
    "| :------------ | :-------------  | :------------- | :-------------  | :------------- |\n",
    "| RetinaNet | Facebook | keras | 2017 | 5 fps | 15 c | 2 |\n",
    "| YOLOv1 | Université de Washington | TF | 2015| 45-150 fps | 20 c | 5 |\n",
    "| YOLOv3 | Université de Washington | Pytorch | 2018 | 30 fps | 20 c | 3 |\n",
    "| SSD | lab + Google | TF | 2016 | 19-45 fps | 20 c | 3 |\n",
    "\n",
    "Après avoir comparé ces performances, nous avons convenu des points qu'il faudrait approfondir et explorer pour la prochaine réunion au 12/10/2018. La liste est la suivante :\n",
    "- Trouver les BD d'entraînement de chacun des réseaux ;\n",
    "- Se pencher sur le mécanisme de détection des bounding boxes dans les réseaux ;\n",
    "- Lire le papier sur YOLOv3 (en particulier référence 9) ;\n",
    "- Tester RetinaNet en changeant son backbone ;\n",
    "- Tester les réseaux existants sur d'autres images (KITTI avec plusieures types d'objets et CEREMA AWP pour les conditions météorologiques dégradées) ;\n",
    "- Rechercher les BD qui existent avec des conditions météorologiques dégradées (brouillard, neige, pluie, etc.) et les tester avec les réseaux."
   ]
  },
  {
   "cell_type": "code",
   "execution_count": null,
   "metadata": {},
   "outputs": [],
   "source": []
  }
 ],
 "metadata": {
  "kernelspec": {
   "display_name": "Python 3",
   "language": "python",
   "name": "python3"
  },
  "language_info": {
   "codemirror_mode": {
    "name": "ipython",
    "version": 3
   },
   "file_extension": ".py",
   "mimetype": "text/x-python",
   "name": "python",
   "nbconvert_exporter": "python",
   "pygments_lexer": "ipython3",
   "version": "3.6.5"
  }
 },
 "nbformat": 4,
 "nbformat_minor": 2
}
